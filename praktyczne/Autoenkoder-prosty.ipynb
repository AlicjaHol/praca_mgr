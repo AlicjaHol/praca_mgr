{
 "cells": [
  {
   "cell_type": "markdown",
   "metadata": {},
   "source": [
    "### Importy"
   ]
  },
  {
   "cell_type": "code",
   "execution_count": 16,
   "metadata": {},
   "outputs": [],
   "source": [
    "from tensorflow.keras.layers import Dense\n",
    "from tensorflow.keras import Input, Model\n",
    "from tensorflow.keras.callbacks import Callback\n",
    "from tensorflow.keras.datasets import mnist\n",
    "import numpy as np\n",
    "import matplotlib.pyplot as plt"
   ]
  },
  {
   "cell_type": "code",
   "execution_count": 20,
   "metadata": {},
   "outputs": [],
   "source": [
    "# w celu logowania czasu wykonania\n",
    "import time\n",
    "\n",
    "class TimeHistory(Callback):\n",
    "    def on_train_begin(self, logs={}):\n",
    "        self.times = []\n",
    "\n",
    "    def on_epoch_begin(self, epoch, logs={}):\n",
    "        self.epoch_time_start = time.time()\n",
    "\n",
    "    def on_epoch_end(self, epoch, logs={}):\n",
    "        self.times.append(time.time() - self.epoch_time_start)"
   ]
  },
  {
   "cell_type": "markdown",
   "metadata": {},
   "source": [
    "### Prosty autoenkoder"
   ]
  },
  {
   "cell_type": "markdown",
   "metadata": {},
   "source": [
    "Określamy wymiar przestrzeni ukrytej (im niższy wymiar tym bardziej skompresowane dane) i budujemy model autoenkodera"
   ]
  },
  {
   "cell_type": "code",
   "execution_count": 2,
   "metadata": {},
   "outputs": [],
   "source": [
    "encoding_dim = 15  # wymiar kodowania skompresowanego\n",
    "input_img = Input(shape=(784,), name='Warstwa_wejściowa') # warstwa wejsciowa\n",
    "encoded = Dense(encoding_dim, activation='relu', name='Enkoder')(input_img) # reprezentacja zakodowana\n",
    "decoded = Dense(784, activation='sigmoid', name='Dekoder')(encoded) # reprezentacja zdekodowana\n",
    "autoencoder = Model(input_img, decoded, name='Prosty_autoenkoder') # model autoenkodera"
   ]
  },
  {
   "cell_type": "markdown",
   "metadata": {},
   "source": [
    "Tworzymy enkoder i dekoder"
   ]
  },
  {
   "cell_type": "code",
   "execution_count": 3,
   "metadata": {},
   "outputs": [],
   "source": [
    "encoder = Model(input_img, encoded) # model enkodera\n",
    "encoded_input = Input(shape=(encoding_dim,)) # input dla dekodera\n",
    "decoder_layer = autoencoder.layers[-1] # ostatnia warstwa autoenkodera czyli dekoder\n",
    "decoder = Model(encoded_input, decoder_layer(encoded_input)) # model dekodera"
   ]
  },
  {
   "cell_type": "markdown",
   "metadata": {},
   "source": [
    "Ustawiamy optymalizator i funkcję straty"
   ]
  },
  {
   "cell_type": "code",
   "execution_count": 4,
   "metadata": {},
   "outputs": [],
   "source": [
    "autoencoder.compile(optimizer='adam', loss='binary_crossentropy')"
   ]
  },
  {
   "cell_type": "markdown",
   "metadata": {},
   "source": [
    "Wczytanie zbioru danych MNIST "
   ]
  },
  {
   "cell_type": "code",
   "execution_count": 5,
   "metadata": {},
   "outputs": [
    {
     "name": "stdout",
     "output_type": "stream",
     "text": [
      "(60000, 784)\n",
      "(10000, 784)\n"
     ]
    }
   ],
   "source": [
    "(x_train, _), (x_test, _) = mnist.load_data()\n",
    "x_train = x_train.astype('float32') / 255.\n",
    "x_test = x_test.astype('float32') / 255.\n",
    "x_train = x_train.reshape((len(x_train), np.prod(x_train.shape[1:])))\n",
    "x_test = x_test.reshape((len(x_test), np.prod(x_test.shape[1:])))\n",
    "print(x_train.shape)\n",
    "print(x_test.shape)"
   ]
  },
  {
   "cell_type": "markdown",
   "metadata": {},
   "source": [
    "Przykładowe obrazy ze zbioru treningowego:"
   ]
  },
  {
   "cell_type": "code",
   "execution_count": 6,
   "metadata": {},
   "outputs": [
    {
     "data": {
      "image/png": "[encoded data removed]",
      "text/plain": [
       "<Figure size 720x288 with 5 Axes>"
      ]
     },
     "metadata": {
      "needs_background": "light"
     },
     "output_type": "display_data"
    }
   ],
   "source": [
    "plt.figure(figsize=(10, 4))\n",
    "for i in range(5):\n",
    "    ax = plt.subplot(1, 5, i + 1)\n",
    "    plt.imshow(x_train[i].reshape(28, 28))\n",
    "    plt.gray()\n",
    "    ax.get_xaxis().set_visible(False)\n",
    "    ax.get_yaxis().set_visible(False)"
   ]
  },
  {
   "cell_type": "markdown",
   "metadata": {},
   "source": [
    "Trenujemy model autoenkodera"
   ]
  },
  {
   "cell_type": "code",
   "execution_count": 22,
   "metadata": {},
   "outputs": [],
   "source": [
    "time_callback = TimeHistory()"
   ]
  },
  {
   "cell_type": "code",
   "execution_count": 23,
   "metadata": {},
   "outputs": [
    {
     "name": "stdout",
     "output_type": "stream",
     "text": [
      "Epoch 1/15\n",
      "235/235 [==============================] - 5s 21ms/step - loss: 0.1349 - val_loss: 0.1335\n",
      "Epoch 2/15\n",
      "235/235 [==============================] - 5s 20ms/step - loss: 0.1346 - val_loss: 0.1332\n",
      "Epoch 3/15\n",
      "235/235 [==============================] - 5s 19ms/step - loss: 0.1343 - val_loss: 0.1330\n",
      "Epoch 4/15\n",
      "235/235 [==============================] - 4s 19ms/step - loss: 0.1341 - val_loss: 0.1329\n",
      "Epoch 5/15\n",
      "235/235 [==============================] - 4s 18ms/step - loss: 0.1339 - val_loss: 0.1326\n",
      "Epoch 6/15\n",
      "235/235 [==============================] - 5s 20ms/step - loss: 0.1337 - val_loss: 0.1324\n",
      "Epoch 7/15\n",
      "235/235 [==============================] - 5s 20ms/step - loss: 0.1336 - val_loss: 0.1323\n",
      "Epoch 8/15\n",
      "235/235 [==============================] - 4s 18ms/step - loss: 0.1334 - val_loss: 0.1322\n",
      "Epoch 9/15\n",
      "235/235 [==============================] - 5s 21ms/step - loss: 0.1333 - val_loss: 0.1320\n",
      "Epoch 10/15\n",
      "235/235 [==============================] - 5s 22ms/step - loss: 0.1332 - val_loss: 0.1320\n",
      "Epoch 11/15\n",
      "235/235 [==============================] - 5s 20ms/step - loss: 0.1331 - val_loss: 0.1319\n",
      "Epoch 12/15\n",
      "235/235 [==============================] - 5s 23ms/step - loss: 0.1330 - val_loss: 0.1317\n",
      "Epoch 13/15\n",
      "235/235 [==============================] - 7s 28ms/step - loss: 0.1329 - val_loss: 0.1316\n",
      "Epoch 14/15\n",
      "235/235 [==============================] - 6s 24ms/step - loss: 0.1328 - val_loss: 0.1316\n",
      "Epoch 15/15\n",
      "235/235 [==============================] - 5s 23ms/step - loss: 0.1328 - val_loss: 0.1315\n"
     ]
    }
   ],
   "source": [
    "history=autoencoder.fit(x_train, x_train,\n",
    "                epochs=15,\n",
    "                batch_size=256,\n",
    "                validation_data=(x_test, x_test),\n",
    "                callbacks=[time_callback])"
   ]
  },
  {
   "cell_type": "markdown",
   "metadata": {},
   "source": [
    "Stosujemy enkoder i dekoder na zbiorze testowym. Wyświetlamy oryginalne obrazy ze zbioru testowego oraz ich rekonstrukcje z autoenkodera"
   ]
  },
  {
   "cell_type": "code",
   "execution_count": 8,
   "metadata": {
    "scrolled": true
   },
   "outputs": [
    {
     "data": {
      "image/png": "[encoded data removed]",
      "text/plain": [
       "<Figure size 1440x288 with 10 Axes>"
      ]
     },
     "metadata": {
      "needs_background": "light"
     },
     "output_type": "display_data"
    }
   ],
   "source": [
    "encoded_img = encoder.predict(x_test)\n",
    "decoded_img = decoder.predict(encoded_img)\n",
    "plt.figure(figsize=(20, 4))\n",
    "for i in range(5):\n",
    "    #wyswietlanie oryginalu\n",
    "    ax = plt.subplot(2, 5, i + 1)\n",
    "    plt.imshow(x_test[i].reshape(28, 28))\n",
    "    plt.gray()\n",
    "    ax.get_xaxis().set_visible(False)\n",
    "    ax.get_yaxis().set_visible(False)\n",
    "    # wyswietlanie rekonstrukcji\n",
    "    ax = plt.subplot(2, 5, i + 1 + 5)\n",
    "    plt.imshow(decoded_img[i].reshape(28, 28))\n",
    "    plt.gray()\n",
    "    ax.get_xaxis().set_visible(False)\n",
    "    ax.get_yaxis().set_visible(False)\n",
    "plt.show()"
   ]
  },
  {
   "cell_type": "markdown",
   "metadata": {},
   "source": [
    "Jak wygląda skompresowana forma danych?"
   ]
  },
  {
   "cell_type": "markdown",
   "metadata": {},
   "source": [
    "Zbiór testowy po zakodowaniu przy użyciu enkodera ma wymiar 10000 na 15, czyli zawiera 10 tysięcy obserwacji, każda jest wektorem o długości 15 (wejściowe obrazy były przedstawione jako wektory o długości 784)."
   ]
  },
  {
   "cell_type": "code",
   "execution_count": 9,
   "metadata": {
    "scrolled": true
   },
   "outputs": [
    {
     "data": {
      "text/plain": [
       "(10000, 15)"
      ]
     },
     "execution_count": 9,
     "metadata": {},
     "output_type": "execute_result"
    }
   ],
   "source": [
    "encoded_img.shape"
   ]
  },
  {
   "cell_type": "markdown",
   "metadata": {},
   "source": [
    "Przykładowe kodowanie obserwacji ze zbioru testowego:"
   ]
  },
  {
   "cell_type": "code",
   "execution_count": 10,
   "metadata": {
    "scrolled": true
   },
   "outputs": [
    {
     "data": {
      "text/plain": [
       "array([11.344408 ,  9.887121 ,  3.7241054,  9.919837 ,  3.0924015,\n",
       "       12.554805 , 16.64782  ,  6.0366845,  0.       ,  0.9262277,\n",
       "       12.766998 , 11.932495 ,  4.4192133,  7.9177785, 11.1360855],\n",
       "      dtype=float32)"
      ]
     },
     "execution_count": 10,
     "metadata": {},
     "output_type": "execute_result"
    }
   ],
   "source": [
    "encoded_img[0]"
   ]
  },
  {
   "cell_type": "code",
   "execution_count": 11,
   "metadata": {
    "scrolled": true
   },
   "outputs": [
    {
     "data": {
      "image/png": "[encoded data removed]",
      "text/plain": [
       "<Figure size 432x288 with 1 Axes>"
      ]
     },
     "metadata": {
      "needs_background": "light"
     },
     "output_type": "display_data"
    }
   ],
   "source": [
    "#plt.figure(figsize=(4, 8))\n",
    "plt.imshow(encoded_img[0].reshape(1,15))\n",
    "plt.show()"
   ]
  },
  {
   "cell_type": "code",
   "execution_count": 12,
   "metadata": {},
   "outputs": [
    {
     "name": "stdout",
     "output_type": "stream",
     "text": [
      "Model: \"Prosty_autoenkoder\"\n",
      "_________________________________________________________________\n",
      " Layer (type)                Output Shape              Param #   \n",
      "=================================================================\n",
      " Warstwa_wejściowa (InputLay  [(None, 784)]            0         \n",
      " er)                                                             \n",
      "                                                                 \n",
      " Enkoder (Dense)             (None, 15)                11775     \n",
      "                                                                 \n",
      " Dekoder (Dense)             (None, 784)               12544     \n",
      "                                                                 \n",
      "=================================================================\n",
      "Total params: 24,319\n",
      "Trainable params: 24,319\n",
      "Non-trainable params: 0\n",
      "_________________________________________________________________\n"
     ]
    }
   ],
   "source": [
    "autoencoder.summary()"
   ]
  },
  {
   "cell_type": "code",
   "execution_count": 13,
   "metadata": {},
   "outputs": [],
   "source": [
    "loss=history.history['loss']\n",
    "epoch=history.epoch"
   ]
  },
  {
   "cell_type": "code",
   "execution_count": 14,
   "metadata": {},
   "outputs": [
    {
     "data": {
      "image/png": "[encoded data removed]",
      "text/plain": [
       "<Figure size 720x576 with 1 Axes>"
      ]
     },
     "metadata": {
      "needs_background": "light"
     },
     "output_type": "display_data"
    }
   ],
   "source": [
    "fig = plt.figure(figsize=(10,8))\n",
    "plt.plot(epoch, loss, 'g')\n",
    "plt.ylabel(\"wartość funkcji straty\", fontsize=18)\n",
    "plt.xlabel(\"epoka\", fontsize=18)\n",
    "plt.grid(True)\n",
    "plt.show()"
   ]
  },
  {
   "cell_type": "code",
   "execution_count": 16,
   "metadata": {},
   "outputs": [],
   "source": [
    "autoencoder.save_weights('simple_autoencoder.h5')"
   ]
  },
  {
   "cell_type": "code",
   "execution_count": 26,
   "metadata": {},
   "outputs": [
    {
     "data": {
      "text/plain": [
       "[5.067455053329468,\n",
       " 4.6783833503723145,\n",
       " 4.564964294433594,\n",
       " 4.43439793586731,\n",
       " 4.306335926055908,\n",
       " 4.757062196731567,\n",
       " 4.766044616699219,\n",
       " 4.200185775756836,\n",
       " 4.9463791847229,\n",
       " 5.059286832809448,\n",
       " 4.8079938888549805,\n",
       " 5.452341318130493,\n",
       " 6.669023752212524,\n",
       " 5.706934213638306,\n",
       " 5.424026727676392]"
      ]
     },
     "execution_count": 26,
     "metadata": {},
     "output_type": "execute_result"
    }
   ],
   "source": [
    "time_callback.times"
   ]
  },
  {
   "cell_type": "code",
   "execution_count": 27,
   "metadata": {},
   "outputs": [
    {
     "data": {
      "image/png": "[encoded data removed]",
      "text/plain": [
       "<Figure size 720x576 with 1 Axes>"
      ]
     },
     "metadata": {
      "needs_background": "light"
     },
     "output_type": "display_data"
    }
   ],
   "source": [
    "fig = plt.figure(figsize=(10,8))\n",
    "plt.plot(epoch, time_callback.times, 'g')\n",
    "plt.ylabel(\"wartość funkcji straty\", fontsize=18)\n",
    "plt.xlabel(\"epoka\", fontsize=18)\n",
    "plt.grid(True)\n",
    "plt.show()"
   ]
  },
  {
   "cell_type": "code",
   "execution_count": null,
   "metadata": {},
   "outputs": [],
   "source": []
  }
 ],
 "metadata": {
  "kernelspec": {
   "display_name": "Python 3",
   "language": "python",
   "name": "python3"
  },
  "language_info": {
   "codemirror_mode": {
    "name": "ipython",
    "version": 3
   },
   "file_extension": ".py",
   "mimetype": "text/x-python",
   "name": "python",
   "nbconvert_exporter": "python",
   "pygments_lexer": "ipython3",
   "version": "3.8.10"
  }
 },
 "nbformat": 4,
 "nbformat_minor": 4
}
