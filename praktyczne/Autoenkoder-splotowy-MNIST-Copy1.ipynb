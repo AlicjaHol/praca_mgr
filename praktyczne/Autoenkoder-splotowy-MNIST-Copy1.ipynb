{
 "cells": [
  {
   "cell_type": "markdown",
   "metadata": {},
   "source": [
    "## Autoenkoder splotowy"
   ]
  },
  {
   "cell_type": "markdown",
   "metadata": {},
   "source": [
    "### Importy"
   ]
  },
  {
   "cell_type": "code",
   "execution_count": 1,
   "metadata": {},
   "outputs": [],
   "source": [
    "from tensorflow.keras.layers import Dense,Conv2D,MaxPooling2D,UpSampling2D\n",
    "from tensorflow.keras import Input, Model\n",
    "from tensorflow.keras.datasets import mnist\n",
    "from tensorflow.keras import Sequential\n",
    "import numpy as np\n",
    "import matplotlib.pyplot as plt"
   ]
  },
  {
   "cell_type": "markdown",
   "metadata": {},
   "source": [
    "Zbiorek danych"
   ]
  },
  {
   "cell_type": "code",
   "execution_count": 2,
   "metadata": {},
   "outputs": [],
   "source": [
    "(x_train, _), (x_test, _) = mnist.load_data()\n",
    "x_train = x_train.astype('float32') / 255.\n",
    "x_test = x_test.astype('float32') / 255.\n",
    "x_train = np.reshape(x_train, (len(x_train), 28, 28, 1))\n",
    "x_test = np.reshape(x_test, (len(x_test), 28, 28, 1))"
   ]
  },
  {
   "cell_type": "markdown",
   "metadata": {},
   "source": [
    "Modelik autoenkoderka"
   ]
  },
  {
   "cell_type": "code",
   "execution_count": 3,
   "metadata": {},
   "outputs": [
    {
     "name": "stdout",
     "output_type": "stream",
     "text": [
      "Model: \"sequential\"\n",
      "_________________________________________________________________\n",
      " Layer (type)                Output Shape              Param #   \n",
      "=================================================================\n",
      " encoder (Sequential)        (None, 7, 7, 30)          4230      \n",
      "                                                                 \n",
      " decoder (Sequential)        (None, 28, 28, 1)         12331     \n",
      "                                                                 \n",
      "=================================================================\n",
      "Total params: 16,561\n",
      "Trainable params: 16,561\n",
      "Non-trainable params: 0\n",
      "_________________________________________________________________\n"
     ]
    }
   ],
   "source": [
    "#autoencoder = Sequential(name='autoencoder')\n",
    "encoder=Sequential(name='encoder')\n",
    "decoder=Sequential(name='decoder')\n",
    "# siec enkodera\n",
    "encoder.add(Conv2D(15, 3, activation= 'relu', padding='same', input_shape = (28,28,1)))\n",
    "encoder.add(MaxPooling2D(2, padding= 'same'))\n",
    "encoder.add(Conv2D(30, 3, activation= 'relu', padding='same'))\n",
    "encoder.add(MaxPooling2D(2, padding= 'same'))\n",
    "# siec dekodera\n",
    "decoder.add(Conv2D(30, 3, activation= 'relu', padding='same'))\n",
    "decoder.add(UpSampling2D(2))\n",
    "decoder.add(Conv2D(15, 3, activation= 'relu', padding='same'))\n",
    "decoder.add(UpSampling2D(2))\n",
    "decoder.add(Conv2D(1,3,activation='sigmoid', padding= 'same')) # output \n",
    "autoencoder=Sequential([encoder, decoder])\n",
    "#autoencoder.add(encoder)\n",
    "#autoencoder.add(decoder)\n",
    "autoencoder.compile(optimizer= 'adam', loss = 'binary_crossentropy')\n",
    "autoencoder.summary()"
   ]
  },
  {
   "cell_type": "code",
   "execution_count": 4,
   "metadata": {},
   "outputs": [
    {
     "name": "stdout",
     "output_type": "stream",
     "text": [
      "Model: \"encoder\"\n",
      "_________________________________________________________________\n",
      " Layer (type)                Output Shape              Param #   \n",
      "=================================================================\n",
      " conv2d (Conv2D)             (None, 28, 28, 15)        150       \n",
      "                                                                 \n",
      " max_pooling2d (MaxPooling2D  (None, 14, 14, 15)       0         \n",
      " )                                                               \n",
      "                                                                 \n",
      " conv2d_1 (Conv2D)           (None, 14, 14, 30)        4080      \n",
      "                                                                 \n",
      " max_pooling2d_1 (MaxPooling  (None, 7, 7, 30)         0         \n",
      " 2D)                                                             \n",
      "                                                                 \n",
      "=================================================================\n",
      "Total params: 4,230\n",
      "Trainable params: 4,230\n",
      "Non-trainable params: 0\n",
      "_________________________________________________________________\n"
     ]
    }
   ],
   "source": [
    "encoder.summary()"
   ]
  },
  {
   "cell_type": "code",
   "execution_count": 5,
   "metadata": {},
   "outputs": [
    {
     "name": "stdout",
     "output_type": "stream",
     "text": [
      "Model: \"decoder\"\n",
      "_________________________________________________________________\n",
      " Layer (type)                Output Shape              Param #   \n",
      "=================================================================\n",
      " conv2d_2 (Conv2D)           (None, 7, 7, 30)          8130      \n",
      "                                                                 \n",
      " up_sampling2d (UpSampling2D  (None, 14, 14, 30)       0         \n",
      " )                                                               \n",
      "                                                                 \n",
      " conv2d_3 (Conv2D)           (None, 14, 14, 15)        4065      \n",
      "                                                                 \n",
      " up_sampling2d_1 (UpSampling  (None, 28, 28, 15)       0         \n",
      " 2D)                                                             \n",
      "                                                                 \n",
      " conv2d_4 (Conv2D)           (None, 28, 28, 1)         136       \n",
      "                                                                 \n",
      "=================================================================\n",
      "Total params: 12,331\n",
      "Trainable params: 12,331\n",
      "Non-trainable params: 0\n",
      "_________________________________________________________________\n"
     ]
    }
   ],
   "source": [
    "decoder.summary()"
   ]
  },
  {
   "cell_type": "code",
   "execution_count": 6,
   "metadata": {},
   "outputs": [
    {
     "name": "stdout",
     "output_type": "stream",
     "text": [
      "Epoch 1/5\n",
      "469/469 [==============================] - 59s 124ms/step - loss: 0.1245 - val_loss: 0.0786\n",
      "Epoch 2/5\n",
      "469/469 [==============================] - 56s 120ms/step - loss: 0.0765 - val_loss: 0.0735\n",
      "Epoch 3/5\n",
      "469/469 [==============================] - 56s 118ms/step - loss: 0.0732 - val_loss: 0.0717\n",
      "Epoch 4/5\n",
      "469/469 [==============================] - 54s 115ms/step - loss: 0.0718 - val_loss: 0.0705\n",
      "Epoch 5/5\n",
      "469/469 [==============================] - 57s 121ms/step - loss: 0.0708 - val_loss: 0.0698\n"
     ]
    }
   ],
   "source": [
    "history=autoencoder.fit(x_train, x_train,\n",
    "                epochs=5,\n",
    "                batch_size=128,\n",
    "                validation_data=(x_test, x_test))"
   ]
  },
  {
   "cell_type": "code",
   "execution_count": 7,
   "metadata": {},
   "outputs": [
    {
     "data": {
      "image/png": "[encoded data removed]",
      "text/plain": [
       "<Figure size 1440x288 with 10 Axes>"
      ]
     },
     "metadata": {
      "needs_background": "light"
     },
     "output_type": "display_data"
    }
   ],
   "source": [
    "pred = autoencoder.predict(x_test)\n",
    "plt.figure(figsize=(20, 4))\n",
    "for i in range(5):\n",
    "    # oryginalne obrazy ze zbioru testowego\n",
    "    ax = plt.subplot(2, 5, i + 1)\n",
    "    plt.imshow(x_test[i].reshape(28, 28))\n",
    "    plt.gray()\n",
    "    ax.get_xaxis().set_visible(False)\n",
    "    ax.get_yaxis().set_visible(False)\n",
    "    # rekonstrukcje obrazow z autoenkodera\n",
    "    ax = plt.subplot(2, 5, i + 1 + 5)\n",
    "    plt.imshow(pred[i].reshape(28, 28))\n",
    "    plt.gray()\n",
    "    ax.get_xaxis().set_visible(False)\n",
    "    ax.get_yaxis().set_visible(False)\n",
    "plt.show()"
   ]
  },
  {
   "cell_type": "code",
   "execution_count": 8,
   "metadata": {},
   "outputs": [],
   "source": [
    "code=encoder.predict(x_test)"
   ]
  },
  {
   "cell_type": "code",
   "execution_count": 9,
   "metadata": {},
   "outputs": [
    {
     "data": {
      "text/plain": [
       "(10000, 7, 7, 30)"
      ]
     },
     "execution_count": 9,
     "metadata": {},
     "output_type": "execute_result"
    }
   ],
   "source": [
    "code.shape"
   ]
  },
  {
   "cell_type": "code",
   "execution_count": 12,
   "metadata": {},
   "outputs": [
    {
     "data": {
      "text/plain": [
       "array([[0.23619631, 0.39733705, 0.14617875, 0.288409  , 0.38383335,\n",
       "        0.15141568, 0.34046128, 0.01122036, 0.22073282, 0.2899637 ,\n",
       "        0.38283485, 0.01252823, 0.        , 0.2880692 , 0.28462824,\n",
       "        0.24886191, 0.        , 0.19992238, 0.25968343, 0.4112146 ,\n",
       "        0.23792964, 0.3144214 , 0.15129088, 0.47889733, 0.4245124 ,\n",
       "        0.        , 0.05551378, 0.2493715 , 0.02346263, 0.08868401],\n",
       "       [0.23467799, 0.39733705, 0.14617875, 0.288409  , 0.38383335,\n",
       "        0.15141568, 0.34046128, 0.01122036, 0.22073282, 0.2899637 ,\n",
       "        0.38283485, 0.01247294, 0.        , 0.2880692 , 0.28462824,\n",
       "        0.24886191, 0.        , 0.19992238, 0.25968343, 0.4112146 ,\n",
       "        0.23792964, 0.3144214 , 0.15129088, 0.47889733, 0.4245124 ,\n",
       "        0.        , 0.05551378, 0.2493715 , 0.0010759 , 0.08868401],\n",
       "       [0.23467799, 0.39733705, 0.14617875, 0.288409  , 0.38383335,\n",
       "        0.15141568, 0.34046128, 0.01122036, 0.22073282, 0.2899637 ,\n",
       "        0.38283485, 0.01247294, 0.        , 0.2880692 , 0.28462824,\n",
       "        0.24886191, 0.        , 0.19992238, 0.25968343, 0.4112146 ,\n",
       "        0.23792964, 0.3144214 , 0.15129088, 0.47889733, 0.4245124 ,\n",
       "        0.        , 0.05551378, 0.2493715 , 0.0010759 , 0.08868401],\n",
       "       [0.23467799, 0.39733705, 0.14617875, 0.288409  , 0.38383335,\n",
       "        0.15141568, 0.34046128, 0.01122036, 0.22073282, 0.2899637 ,\n",
       "        0.38283485, 0.01247294, 0.        , 0.2880692 , 0.28462824,\n",
       "        0.24886191, 0.        , 0.19992238, 0.25968343, 0.4112146 ,\n",
       "        0.23792964, 0.3144214 , 0.15129088, 0.47889733, 0.4245124 ,\n",
       "        0.        , 0.05551378, 0.2493715 , 0.0010759 , 0.08868401],\n",
       "       [0.23467799, 0.39733705, 0.14617875, 0.288409  , 0.38383335,\n",
       "        0.15141568, 0.34046128, 0.01122036, 0.22073282, 0.2899637 ,\n",
       "        0.38283485, 0.01247294, 0.        , 0.2880692 , 0.28462824,\n",
       "        0.24886191, 0.        , 0.19992238, 0.25968343, 0.4112146 ,\n",
       "        0.23792964, 0.3144214 , 0.15129088, 0.47889733, 0.4245124 ,\n",
       "        0.        , 0.05551378, 0.2493715 , 0.0010759 , 0.08868401],\n",
       "       [0.23467799, 0.39733705, 0.14617875, 0.288409  , 0.38383335,\n",
       "        0.15141568, 0.34046128, 0.01122036, 0.22073282, 0.2899637 ,\n",
       "        0.38283485, 0.01247294, 0.        , 0.2880692 , 0.28462824,\n",
       "        0.24886191, 0.        , 0.19992238, 0.25968343, 0.4112146 ,\n",
       "        0.23792964, 0.3144214 , 0.15129088, 0.47889733, 0.4245124 ,\n",
       "        0.        , 0.05551378, 0.2493715 , 0.0010759 , 0.08868401],\n",
       "       [0.23467799, 0.39733705, 0.19335566, 0.288409  , 0.38383335,\n",
       "        0.15141568, 0.34046128, 0.01122036, 0.22073282, 0.2899637 ,\n",
       "        0.38283485, 0.01247294, 0.        , 0.2880692 , 0.28462824,\n",
       "        0.24886191, 0.        , 0.19992238, 0.25968343, 0.4112146 ,\n",
       "        0.23792964, 0.3144214 , 0.15129088, 0.47889733, 0.4245124 ,\n",
       "        0.        , 0.05551378, 0.2493715 , 0.0010759 , 0.08868401]],\n",
       "      dtype=float32)"
      ]
     },
     "execution_count": 12,
     "metadata": {},
     "output_type": "execute_result"
    }
   ],
   "source": [
    "code[0][0]"
   ]
  },
  {
   "cell_type": "code",
   "execution_count": 11,
   "metadata": {},
   "outputs": [
    {
     "data": {
      "image/png": "[encoded data removed]",
      "text/plain": [
       "<Figure size 432x288 with 1 Axes>"
      ]
     },
     "metadata": {
      "needs_background": "light"
     },
     "output_type": "display_data"
    }
   ],
   "source": [
    "plt.imshow(code[0].reshape(-1).reshape(49,30))\n",
    "plt.axis('off')\n",
    "plt.show()"
   ]
  },
  {
   "cell_type": "code",
   "execution_count": 12,
   "metadata": {},
   "outputs": [],
   "source": [
    "loss=history.history['loss']\n",
    "epoch=history.epoch"
   ]
  },
  {
   "cell_type": "code",
   "execution_count": 14,
   "metadata": {},
   "outputs": [
    {
     "data": {
      "image/png": "[encoded data removed]",
      "text/plain": [
       "<Figure size 720x576 with 1 Axes>"
      ]
     },
     "metadata": {
      "needs_background": "light"
     },
     "output_type": "display_data"
    }
   ],
   "source": [
    "fig = plt.figure(figsize=(10,8))\n",
    "plt.plot([x+1 for x in epoch], loss, 'g')\n",
    "plt.ylabel(\"wartość funkcji straty\", fontsize=18)\n",
    "plt.xlabel(\"epoka\", fontsize=18)\n",
    "plt.grid(True)\n",
    "plt.show()"
   ]
  },
  {
   "cell_type": "code",
   "execution_count": 41,
   "metadata": {},
   "outputs": [],
   "source": [
    "autoencoder.save_weights('conv_autoencoder.h5')"
   ]
  },
  {
   "cell_type": "code",
   "execution_count": null,
   "metadata": {},
   "outputs": [],
   "source": []
  }
 ],
 "metadata": {
  "kernelspec": {
   "display_name": "Python 3",
   "language": "python",
   "name": "python3"
  },
  "language_info": {
   "codemirror_mode": {
    "name": "ipython",
    "version": 3
   },
   "file_extension": ".py",
   "mimetype": "text/x-python",
   "name": "python",
   "nbconvert_exporter": "python",
   "pygments_lexer": "ipython3",
   "version": "3.8.10"
  }
 },
 "nbformat": 4,
 "nbformat_minor": 4
}
