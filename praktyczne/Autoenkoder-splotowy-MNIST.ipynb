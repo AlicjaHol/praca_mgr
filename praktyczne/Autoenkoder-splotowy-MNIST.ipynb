{
 "cells": [
  {
   "cell_type": "markdown",
   "metadata": {},
   "source": [
    "## Autoenkoder splotowy"
   ]
  },
  {
   "cell_type": "markdown",
   "metadata": {},
   "source": [
    "### Importy"
   ]
  },
  {
   "cell_type": "code",
   "execution_count": 1,
   "metadata": {},
   "outputs": [],
   "source": [
    "from tensorflow.keras.layers import Dense,Conv2D,MaxPooling2D,UpSampling2D\n",
    "from tensorflow.keras import Input, Model\n",
    "from tensorflow.keras.datasets import mnist\n",
    "from tensorflow.keras import Sequential\n",
    "import numpy as np\n",
    "import matplotlib.pyplot as plt"
   ]
  },
  {
   "cell_type": "markdown",
   "metadata": {},
   "source": [
    "Zbiorek danych"
   ]
  },
  {
   "cell_type": "code",
   "execution_count": 2,
   "metadata": {},
   "outputs": [],
   "source": [
    "(x_train, _), (x_test, _) = mnist.load_data()\n",
    "x_train = x_train.astype('float32') / 255.\n",
    "x_test = x_test.astype('float32') / 255.\n",
    "x_train = np.reshape(x_train, (len(x_train), 28, 28, 1))\n",
    "x_test = np.reshape(x_test, (len(x_test), 28, 28, 1))"
   ]
  },
  {
   "cell_type": "markdown",
   "metadata": {},
   "source": [
    "Modelik autoenkoderka"
   ]
  },
  {
   "cell_type": "code",
   "execution_count": 9,
   "metadata": {},
   "outputs": [
    {
     "name": "stdout",
     "output_type": "stream",
     "text": [
      "Model: \"sequential\"\n",
      "_________________________________________________________________\n",
      " Layer (type)                Output Shape              Param #   \n",
      "=================================================================\n",
      " encoder (Sequential)        (None, 7, 7, 15)          4365      \n",
      "                                                                 \n",
      " decoder (Sequential)        (None, 28, 28, 1)         6391      \n",
      "                                                                 \n",
      "=================================================================\n",
      "Total params: 10,756\n",
      "Trainable params: 10,756\n",
      "Non-trainable params: 0\n",
      "_________________________________________________________________\n"
     ]
    }
   ],
   "source": [
    "#autoencoder = Sequential(name='autoencoder')\n",
    "encoder=Sequential(name='encoder')\n",
    "decoder=Sequential(name='decoder')\n",
    "# siec enkodera\n",
    "encoder.add(Conv2D(30, 3, activation= 'relu', padding='same', input_shape = (28,28,1)))\n",
    "encoder.add(MaxPooling2D(2, padding= 'same'))\n",
    "encoder.add(Conv2D(15, 3, activation= 'relu', padding='same'))\n",
    "encoder.add(MaxPooling2D(2, padding= 'same'))\n",
    "# siec dekodera\n",
    "decoder.add(Conv2D(15, 3, activation= 'relu', padding='same'))\n",
    "decoder.add(UpSampling2D(2))\n",
    "decoder.add(Conv2D(30, 3, activation= 'relu', padding='same'))\n",
    "decoder.add(UpSampling2D(2))\n",
    "decoder.add(Conv2D(1,3,activation='sigmoid', padding= 'same')) # output \n",
    "autoencoder=Sequential([encoder, decoder])\n",
    "#autoencoder.add(encoder)\n",
    "#autoencoder.add(decoder)\n",
    "autoencoder.compile(optimizer= 'adam', loss = 'binary_crossentropy')\n",
    "autoencoder.summary()"
   ]
  },
  {
   "cell_type": "code",
   "execution_count": 14,
   "metadata": {},
   "outputs": [
    {
     "name": "stdout",
     "output_type": "stream",
     "text": [
      "Model: \"encoder\"\n",
      "_________________________________________________________________\n",
      " Layer (type)                Output Shape              Param #   \n",
      "=================================================================\n",
      " conv2d_10 (Conv2D)          (None, 28, 28, 30)        300       \n",
      "                                                                 \n",
      " max_pooling2d_4 (MaxPooling  (None, 14, 14, 30)       0         \n",
      " 2D)                                                             \n",
      "                                                                 \n",
      " conv2d_11 (Conv2D)          (None, 14, 14, 15)        4065      \n",
      "                                                                 \n",
      " max_pooling2d_5 (MaxPooling  (None, 7, 7, 15)         0         \n",
      " 2D)                                                             \n",
      "                                                                 \n",
      "=================================================================\n",
      "Total params: 4,365\n",
      "Trainable params: 4,365\n",
      "Non-trainable params: 0\n",
      "_________________________________________________________________\n"
     ]
    }
   ],
   "source": [
    "encoder.summary()"
   ]
  },
  {
   "cell_type": "code",
   "execution_count": 15,
   "metadata": {},
   "outputs": [
    {
     "name": "stdout",
     "output_type": "stream",
     "text": [
      "Model: \"decoder\"\n",
      "_________________________________________________________________\n",
      " Layer (type)                Output Shape              Param #   \n",
      "=================================================================\n",
      " conv2d_12 (Conv2D)          (None, 7, 7, 15)          2040      \n",
      "                                                                 \n",
      " up_sampling2d_4 (UpSampling  (None, 14, 14, 15)       0         \n",
      " 2D)                                                             \n",
      "                                                                 \n",
      " conv2d_13 (Conv2D)          (None, 14, 14, 30)        4080      \n",
      "                                                                 \n",
      " up_sampling2d_5 (UpSampling  (None, 28, 28, 30)       0         \n",
      " 2D)                                                             \n",
      "                                                                 \n",
      " conv2d_14 (Conv2D)          (None, 28, 28, 1)         271       \n",
      "                                                                 \n",
      "=================================================================\n",
      "Total params: 6,391\n",
      "Trainable params: 6,391\n",
      "Non-trainable params: 0\n",
      "_________________________________________________________________\n"
     ]
    }
   ],
   "source": [
    "decoder.summary()"
   ]
  },
  {
   "cell_type": "code",
   "execution_count": 16,
   "metadata": {},
   "outputs": [
    {
     "name": "stdout",
     "output_type": "stream",
     "text": [
      "Epoch 1/15\n",
      "469/469 [==============================] - 74s 158ms/step - loss: 0.0709 - val_loss: 0.0699\n",
      "Epoch 2/15\n",
      "469/469 [==============================] - 78s 167ms/step - loss: 0.0703 - val_loss: 0.0695\n",
      "Epoch 3/15\n",
      "469/469 [==============================] - 73s 155ms/step - loss: 0.0698 - val_loss: 0.0690\n",
      "Epoch 4/15\n",
      "469/469 [==============================] - 72s 155ms/step - loss: 0.0694 - val_loss: 0.0687\n",
      "Epoch 5/15\n",
      "469/469 [==============================] - 73s 156ms/step - loss: 0.0691 - val_loss: 0.0686\n",
      "Epoch 6/15\n",
      "469/469 [==============================] - 72s 153ms/step - loss: 0.0688 - val_loss: 0.0682\n",
      "Epoch 7/15\n",
      "469/469 [==============================] - 71s 152ms/step - loss: 0.0685 - val_loss: 0.0679\n",
      "Epoch 8/15\n",
      "469/469 [==============================] - 79s 169ms/step - loss: 0.0683 - val_loss: 0.0676\n",
      "Epoch 9/15\n",
      "469/469 [==============================] - 75s 161ms/step - loss: 0.0681 - val_loss: 0.0675\n",
      "Epoch 10/15\n",
      "469/469 [==============================] - 73s 155ms/step - loss: 0.0679 - val_loss: 0.0673\n",
      "Epoch 11/15\n",
      "469/469 [==============================] - 75s 159ms/step - loss: 0.0677 - val_loss: 0.0671\n",
      "Epoch 12/15\n",
      "469/469 [==============================] - 73s 156ms/step - loss: 0.0676 - val_loss: 0.0673\n",
      "Epoch 13/15\n",
      "469/469 [==============================] - 72s 155ms/step - loss: 0.0675 - val_loss: 0.0669\n",
      "Epoch 14/15\n",
      "469/469 [==============================] - 72s 154ms/step - loss: 0.0673 - val_loss: 0.0673\n",
      "Epoch 15/15\n",
      "469/469 [==============================] - 74s 157ms/step - loss: 0.0672 - val_loss: 0.0666\n"
     ]
    }
   ],
   "source": [
    "history=autoencoder.fit(x_train, x_train,\n",
    "                epochs=15,\n",
    "                batch_size=128,\n",
    "                validation_data=(x_test, x_test))"
   ]
  },
  {
   "cell_type": "code",
   "execution_count": 18,
   "metadata": {},
   "outputs": [
    {
     "data": {
      "image/png": "[encoded data removed]",
      "text/plain": [
       "<Figure size 1440x288 with 10 Axes>"
      ]
     },
     "metadata": {
      "needs_background": "light"
     },
     "output_type": "display_data"
    }
   ],
   "source": [
    "pred = autoencoder.predict(x_test)\n",
    "plt.figure(figsize=(20, 4))\n",
    "for i in range(5):\n",
    "    # oryginalne obrazy ze zbioru testowego\n",
    "    ax = plt.subplot(2, 5, i + 1)\n",
    "    plt.imshow(x_test[i].reshape(28, 28))\n",
    "    plt.gray()\n",
    "    ax.get_xaxis().set_visible(False)\n",
    "    ax.get_yaxis().set_visible(False)\n",
    "    # rekonstrukcje obrazow z autoenkodera\n",
    "    ax = plt.subplot(2, 5, i + 1 + 5)\n",
    "    plt.imshow(pred[i].reshape(28, 28))\n",
    "    plt.gray()\n",
    "    ax.get_xaxis().set_visible(False)\n",
    "    ax.get_yaxis().set_visible(False)\n",
    "plt.show()"
   ]
  },
  {
   "cell_type": "code",
   "execution_count": 28,
   "metadata": {},
   "outputs": [],
   "source": [
    "code=encoder.predict(x_test)"
   ]
  },
  {
   "cell_type": "code",
   "execution_count": 29,
   "metadata": {},
   "outputs": [
    {
     "data": {
      "text/plain": [
       "(10000, 7, 7, 15)"
      ]
     },
     "execution_count": 29,
     "metadata": {},
     "output_type": "execute_result"
    }
   ],
   "source": [
    "code.shape"
   ]
  },
  {
   "cell_type": "code",
   "execution_count": 30,
   "metadata": {},
   "outputs": [
    {
     "data": {
      "text/plain": [
       "array([[0.40547284, 0.        , 0.39183855, 0.        , 0.        ,\n",
       "        0.00222451, 0.63598937, 0.62034565, 0.10092285, 0.00292763,\n",
       "        0.03599442, 1.0206823 , 0.32902303, 0.6192772 , 0.9448194 ],\n",
       "       [0.40547284, 0.        , 0.39183855, 0.        , 0.        ,\n",
       "        0.00222451, 0.63426214, 0.62034565, 0.00675456, 0.00292763,\n",
       "        0.03392474, 1.0206823 , 0.32902303, 0.6192772 , 0.9448194 ],\n",
       "       [0.40547284, 0.        , 0.39183855, 0.        , 0.        ,\n",
       "        0.00222451, 0.63426214, 0.62034565, 0.00675456, 0.00292763,\n",
       "        0.03392474, 1.0206823 , 0.32902303, 0.6192772 , 0.9448194 ],\n",
       "       [0.40547284, 0.        , 0.39183855, 0.        , 0.        ,\n",
       "        0.00222451, 0.63426214, 0.62034565, 0.00675456, 0.00292763,\n",
       "        0.03392474, 1.0206823 , 0.32902303, 0.6192772 , 0.9448194 ],\n",
       "       [0.40547284, 0.        , 0.39183855, 0.        , 0.        ,\n",
       "        0.00222451, 0.63426214, 0.62034565, 0.00675456, 0.00292763,\n",
       "        0.03392474, 1.0206823 , 0.32902303, 0.6192772 , 0.9448194 ],\n",
       "       [0.40547284, 0.        , 0.39183855, 0.        , 0.        ,\n",
       "        0.00222451, 0.63426214, 0.62034565, 0.00675456, 0.00292763,\n",
       "        0.03392474, 1.0206823 , 0.32902303, 0.6192772 , 0.9448194 ],\n",
       "       [0.40547284, 0.        , 0.39183855, 0.        , 0.        ,\n",
       "        0.00951806, 0.63426214, 0.62034565, 0.00675456, 0.00292763,\n",
       "        0.05447355, 1.0206823 , 0.32902303, 0.6192772 , 0.9448194 ]],\n",
       "      dtype=float32)"
      ]
     },
     "execution_count": 30,
     "metadata": {},
     "output_type": "execute_result"
    }
   ],
   "source": [
    "code[0][0]"
   ]
  },
  {
   "cell_type": "code",
   "execution_count": 38,
   "metadata": {},
   "outputs": [
    {
     "data": {
      "text/plain": [
       "<matplotlib.image.AxesImage at 0x7f41e8542220>"
      ]
     },
     "execution_count": 38,
     "metadata": {},
     "output_type": "execute_result"
    },
    {
     "data": {
      "image/png": "[encoded data removed]",
      "text/plain": [
       "<Figure size 432x288 with 1 Axes>"
      ]
     },
     "metadata": {
      "needs_background": "light"
     },
     "output_type": "display_data"
    }
   ],
   "source": [
    "plt.imshow(code[0].reshape(-1).reshape(49,15))"
   ]
  },
  {
   "cell_type": "code",
   "execution_count": 39,
   "metadata": {},
   "outputs": [],
   "source": [
    "loss=history.history['loss']\n",
    "epoch=history.epoch"
   ]
  },
  {
   "cell_type": "code",
   "execution_count": 40,
   "metadata": {},
   "outputs": [
    {
     "data": {
      "image/png": "[encoded data removed]",
      "text/plain": [
       "<Figure size 720x576 with 1 Axes>"
      ]
     },
     "metadata": {
      "needs_background": "light"
     },
     "output_type": "display_data"
    }
   ],
   "source": [
    "fig = plt.figure(figsize=(10,8))\n",
    "plt.plot(epoch, loss, 'g')\n",
    "plt.ylabel(\"wartość funkcji straty\", fontsize=18)\n",
    "plt.xlabel(\"epoka\", fontsize=18)\n",
    "plt.grid(True)\n",
    "plt.show()"
   ]
  },
  {
   "cell_type": "code",
   "execution_count": 41,
   "metadata": {},
   "outputs": [],
   "source": [
    "autoencoder.save_weights('conv_autoencoder.h5')"
   ]
  },
  {
   "cell_type": "code",
   "execution_count": null,
   "metadata": {},
   "outputs": [],
   "source": []
  }
 ],
 "metadata": {
  "kernelspec": {
   "display_name": "Python 3",
   "language": "python",
   "name": "python3"
  },
  "language_info": {
   "codemirror_mode": {
    "name": "ipython",
    "version": 3
   },
   "file_extension": ".py",
   "mimetype": "text/x-python",
   "name": "python",
   "nbconvert_exporter": "python",
   "pygments_lexer": "ipython3",
   "version": "3.8.10"
  }
 },
 "nbformat": 4,
 "nbformat_minor": 4
}
